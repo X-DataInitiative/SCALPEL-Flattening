{
 "cells": [
  {
   "cell_type": "code",
   "execution_count": null,
   "metadata": {
    "collapsed": true
   },
   "outputs": [],
   "source": [
    "#import statements\n",
    "from pyspark.sql.functions import col"
   ]
  },
  {
   "cell_type": "code",
   "execution_count": null,
   "metadata": {
    "collapsed": true
   },
   "outputs": [],
   "source": [
    "outputPathRoot = input()"
   ]
  },
  {
   "cell_type": "markdown",
   "metadata": {},
   "source": [
    "# Number of Lines Statistics in the FlatDFs"
   ]
  },
  {
   "cell_type": "code",
   "execution_count": null,
   "metadata": {
    "collapsed": true
   },
   "outputs": [],
   "source": [
    "# Number of patientId that appears less than 2 times in the entire dcirFlat\n",
    "dcirCountByPatientPath = outputPathRoot + \"/dcirCountByPatient\"\n",
    "sqlContext.read.parquet(dcirCountByPatientPath).where(col(\"dcir_count\") < 2).count()"
   ]
  },
  {
   "cell_type": "code",
   "execution_count": null,
   "metadata": {
    "collapsed": true
   },
   "outputs": [],
   "source": [
    "# Number of patientId that appears less than 2 times in the entire mcoFlat\n",
    "mcoCountByPatientPath = outputPathRoot + \"/mcoCountByPatient\"\n",
    "sqlContext.read.parquet(mcoCountByPatientPath).where(col(\"mco_count\") < 2).count()"
   ]
  },
  {
   "cell_type": "code",
   "execution_count": null,
   "metadata": {
    "collapsed": true
   },
   "outputs": [],
   "source": [
    "# Number of patientId, date that appears less than 2 times in the entire dcirFlat\n",
    "dcirCountByPatientAndMonth = outputPathRoot + \"/dcirCountByPatientAndMonth\"\n",
    "sqlContext.read.parquet(dcirCountByPatientAndMonth).where(col(\"dcir_count\") < 2).count()"
   ]
  },
  {
   "cell_type": "code",
   "execution_count": null,
   "metadata": {
    "collapsed": true
   },
   "outputs": [],
   "source": [
    "# Number of patientId, date that appears less than 2 times in the entire mcoFlat\n",
    "mcoCountByPatientAndMonth = outputPathRoot + \"/mcoCountByPatientAndMonth\"\n",
    "sqlContext.read.parquet(mcoCountByPatientAndMonth).where(col(\"mco_count\") < 2).count()"
   ]
  },
  {
   "cell_type": "markdown",
   "metadata": {},
   "source": [
    "# Number of Events (distinct on PatientId, Date) Statistics in the FlatDFs"
   ]
  },
  {
   "cell_type": "code",
   "execution_count": null,
   "metadata": {
    "collapsed": true
   },
   "outputs": [],
   "source": [
    "# Months that have least number of dcir events \n",
    "dcirPurchaseCountByMonthPath = outputPathRoot + \"/dcirPurchaseCountByMonth\"\n",
    "sqlContext.read.parquet(dcirPurchaseCountByMonthPath).sort(\"dcir_count\").show()"
   ]
  },
  {
   "cell_type": "code",
   "execution_count": null,
   "metadata": {
    "collapsed": true
   },
   "outputs": [],
   "source": [
    "# Months that have least number of mco events \n",
    "mcoDiagCountByMonthPath = outputPathRoot + \"/mcoDiagCountByMonth\"\n",
    "sqlContext.read.parquet(mcoDiagCountByMonthPath).sort(\"mco_count\").show()"
   ]
  },
  {
   "cell_type": "code",
   "execution_count": null,
   "metadata": {
    "collapsed": true
   },
   "outputs": [],
   "source": [
    "# Number of patients who purchased medicines more than 2 times on a same month\n",
    "dcirPurchaseCountByPatientAndMonthPath = outputPathRoot + \"/dcirPurchaseCountByPatientAndMonth\"\n",
    "sqlContext.read.parquet(dcirPurchaseCountByPatientAndMonthPath).where(col(\"dcir_count\") > 2).count()"
   ]
  },
  {
   "cell_type": "code",
   "execution_count": null,
   "metadata": {
    "collapsed": true
   },
   "outputs": [],
   "source": [
    "# Number of patients who are hospitalized/ diagonised more than 2 times on a same month\n",
    "mcoMonthCountByPatientAndMonthPath = outputPathRoot + \"/mcoDiagCountByPatientAndMonth\"\n",
    "sqlContext.read.parquet(mcoMonthCountByPatientAndMonthPath).where(col(\"mco_count\") > 2).count()"
   ]
  },
  {
   "cell_type": "markdown",
   "metadata": {},
   "source": [
    "# Code Consistency Statistics\n"
   ]
  },
  {
   "cell_type": "code",
   "execution_count": null,
   "metadata": {
    "collapsed": true
   },
   "outputs": [],
   "source": [
    "codeConsistencyMetricsPath = outputPathRoot + \"/codeConsistency\"\n",
    "sqlContext.read.parquet(codeConsistencyMetricsPath).show(20, False)"
   ]
  }
 ],
 "metadata": {
  "kernelspec": {
   "display_name": "Python 3",
   "language": "python",
   "name": "python3"
  },
  "language_info": {
   "codemirror_mode": {
    "name": "ipython",
    "version": 3.0
   },
   "file_extension": ".py",
   "mimetype": "text/x-python",
   "name": "python",
   "nbconvert_exporter": "python",
   "pygments_lexer": "ipython3",
   "version": "3.5.1"
  }
 },
 "nbformat": 4,
 "nbformat_minor": 0
}