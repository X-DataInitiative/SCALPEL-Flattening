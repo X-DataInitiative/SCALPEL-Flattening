{
 "cells": [
  {
   "cell_type": "code",
   "execution_count": 1,
   "metadata": {
    "collapsed": true
   },
   "outputs": [],
   "source": [
    "import pandas as pd\n",
    "pd.set_option(\"display.max_columns\", 50)"
   ]
  },
  {
   "cell_type": "code",
   "execution_count": 2,
   "metadata": {
    "collapsed": true
   },
   "outputs": [],
   "source": [
    "class Source(object):\n",
    "    \n",
    "    def __init__(self, source_df, columns_mapping,\n",
    "                join_keys=[\"PHA_CIP_C13\"]):\n",
    "        \"\"\"A class that wraps the new source data.\n",
    "        \n",
    "        Parameters\n",
    "        ----------\n",
    "            source_df : DataFrame\n",
    "                Extra data that will be added to the IR_PHA_R table.\n",
    "            columns_mapping : dict\n",
    "                Maps the columns of source_df to their correspondent\n",
    "                columns in IR_PHA_R.\n",
    "            join_keys : list\n",
    "                Columns used to join to IRPHAR table.\n",
    "        \"\"\"\n",
    "        self.columns_mapping = columns_mapping\n",
    "        self.df = source_df.rename(columns=self.columns_mapping).copy()\n",
    "        self.join_keys = join_keys\n",
    "        self.shared_columns = list(self.columns_mapping.values())\n",
    "\n",
    "        \n",
    "class IRPHAR(object):\n",
    "    \n",
    "    def __init__(self, irphar_df):\n",
    "        \"\"\"A class that wraps the ```IR_PHA_R``` value table.\n",
    "        \n",
    "        Parameters\n",
    "        ----------\n",
    "            irphar_df: DataFrame\n",
    "                IR_PHA_R table.\n",
    "        \"\"\"\n",
    "        self.df = irphar_df\n",
    "\n",
    "        \n",
    "class Consolidator(object):\n",
    "    \n",
    "    def consolidate(self, irphar: IRPHAR, source: Source):\n",
    "        \"\"\"Adds the missing information from the source to the IRPHAR.\n",
    "        \n",
    "        Parameters\n",
    "        ----------\n",
    "            irphar: IRPHAR\n",
    "                Holds the IRPHAR data.\n",
    "            source: Source\n",
    "                Holds extra information to be added.\n",
    "            \n",
    "        Returns\n",
    "        -------\n",
    "        IRPHAR\n",
    "            An IRPHAR with added data.\n",
    "        \"\"\"\n",
    "        partition1, partition2 = self._partition_irphar(irphar, source)\n",
    "        \n",
    "        consolidated_irphar_df = self.add_information(partition1, source)\n",
    "        \n",
    "        result = partition2.join(consolidated_irphar_df)\n",
    "        return IRPHAR(result.reset_index())\n",
    "        \n",
    "    def _partition_irphar(self, irphar, source):\n",
    "        \"\"\"Partition IRPHAR dataframe into two dataframe. The \n",
    "        parition is done columns wise. The first partition contains\n",
    "        IRPHAR table with the columns shared with new Source. The \n",
    "        second partition contains the remaining columns, so that\n",
    "        the algorithme will reconstruct the original passed IRPHAR\n",
    "        with added information.\n",
    "        \n",
    "        Parameters\n",
    "        ----------\n",
    "            irphar: IRPHAR\n",
    "                Holds the IRPHAR data.\n",
    "            source: Source\n",
    "                Holds extra information to be added.\n",
    "        \n",
    "        Returns\n",
    "        -------\n",
    "        IRPHAR\n",
    "            A tuple with the two partitions and the join keys as index.\n",
    "        \"\"\"\n",
    "        key = source.join_keys\n",
    "        irphar_columns = set(irphar.df.columns)\n",
    "        \n",
    "        # Columns where new information will be added\n",
    "        columns_to_keep = source.shared_columns\n",
    "        # Partition 1 contains parts that will be consolidated\n",
    "        partition1 = irphar.df[columns_to_keep].copy().set_index(key)\n",
    "        \n",
    "        # Partition 2 hold the remaining information\n",
    "        partition2_columns = list(irphar_columns.difference(set(columns_to_keep)))\n",
    "        partition2_columns.extend(key)\n",
    "        partition2 = irphar.df[partition2_columns].copy().set_index(key)\n",
    "        \n",
    "        return (partition1, partition2)\n",
    "        \n",
    "    def add_information(self, partition1, source):\n",
    "        \"\"\"Adds the missing information in partition1 from source.\n",
    "        \n",
    "        Parameters\n",
    "        ----------\n",
    "            partition1: DataFrame that contains IRPHAR with missing information.\n",
    "            source: DataFrame with external information.\n",
    "        \n",
    "        Returns\n",
    "        -------\n",
    "            A DataFrame with the added information. This DataFrame has the\n",
    "            exact same shape as partition1.\n",
    "        \n",
    "        \"\"\"\n",
    "        included_drugs = set(source.df.PHA_CIP_C13)\n",
    "        non_included_drugs = set(partition1.index).difference(included_drugs)\n",
    "        \n",
    "        df_part1 = partition1.loc[included_drugs].copy().sort_index()\n",
    "        df_part2 = partition1.loc[non_included_drugs].copy()\n",
    "        \n",
    "        df2 = source.df[source.shared_columns]\n",
    "        \n",
    "        df2 = df2.set_index(\"PHA_CIP_C13\").sort_index()\n",
    "        nb_missing_values = df_part1.isnull().sum().sum()\n",
    "        print(\"Number of missing values in IRPHARA table that are\",\n",
    "              \"available in the new source\",\n",
    "              \"table are {}\".format(nb_missing_values))\n",
    "        \n",
    "        #Ensure that they have the exact same format\n",
    "        assert (df_part1.index == df2.index).all()\n",
    "        assert (df_part1.columns == df2.columns).all()\n",
    "        \n",
    "        df3 = df_part1.fillna(df2)\n",
    "        nb_added_values = nb_missing_values - df3.isnull().sum().sum()\n",
    "        print(\"{} values have been added to IRPHAR\".format(nb_added_values))\n",
    "        df4 = pd.concat([df3, df_part2])\n",
    "        \n",
    "        assert len(partition1) == len(df4)\n",
    "        return df4\n"
   ]
  },
  {
   "cell_type": "markdown",
   "metadata": {},
   "source": [
    "# IRPHAR"
   ]
  },
  {
   "cell_type": "code",
   "execution_count": 6,
   "metadata": {},
   "outputs": [],
   "source": [
    "ir_pha_r = pd.read_csv(\"../src/main/resources/IR_PHA_R/IR_PHA_R_original.csv\", sep=\";\", encoding=\"latin-1\")\n",
    "irphar = IRPHAR(ir_pha_r)"
   ]
  },
  {
   "cell_type": "markdown",
   "metadata": {},
   "source": [
    "# Consolidator "
   ]
  },
  {
   "cell_type": "code",
   "execution_count": 7,
   "metadata": {
    "collapsed": true
   },
   "outputs": [],
   "source": [
    "consolidator = Consolidator()"
   ]
  },
  {
   "cell_type": "markdown",
   "metadata": {},
   "source": [
    "# HTA data"
   ]
  },
  {
   "cell_type": "code",
   "execution_count": 8,
   "metadata": {},
   "outputs": [
    {
     "name": "stdout",
     "output_type": "stream",
     "text": [
      "WARNING *** OLE2 inconsistency: SSCS size is 0 but SSAT size is non-zero\n",
      "Number of missing values in IRPHARA table that are available in the new source table are 238\n",
      "238 values have been added to IRPHAR\n"
     ]
    }
   ],
   "source": [
    "hta_table = pd.read_excel(\"../src/main/resources/IR_PHA_R/Sources/med_cardio_01aou17.xls\")\n",
    "\n",
    "columns_mapping = {\n",
    "    \"code_eph\": \"PHA_EPH_COD\",\n",
    "    \"CODATC2\": \"PHA_ATC_C03\",\n",
    "    \"classe_eph\": \"PHA_EPH_LIB_DSES\",\n",
    "    \"cip13\": \"PHA_CIP_C13\",\n",
    "    \"nom_court\": \"PHA_MED_NOM\",\n",
    "    \"code_atc\": \"PHA_ATC_C07\",\n",
    "    \"LIBATC2\": \"PHA_ATC_L03\",\n",
    "    \"top_hta\": \"PHA_HTA_TOP\",\n",
    "    \"debut_rembt\": \"PHA_INS_DTD\",\n",
    "    \"CIP7\": \"PHA_PRS_IDE\",\n",
    "    \"top_gdcond\": \"PHA_CND_TOP\"\n",
    "}\n",
    "\n",
    "hta_source = Source(hta_table, columns_mapping)\n",
    "irphar = consolidator.consolidate(irphar, hta_source)"
   ]
  },
  {
   "cell_type": "markdown",
   "metadata": {},
   "source": [
    "# Antidépresseurs"
   ]
  },
  {
   "cell_type": "code",
   "execution_count": 9,
   "metadata": {},
   "outputs": [
    {
     "name": "stdout",
     "output_type": "stream",
     "text": [
      "Number of missing values in IRPHARA table that are available in the new source table are 0\n",
      "0 values have been added to IRPHAR\n"
     ]
    }
   ],
   "source": [
    "antidepresseurs = pd.read_excel(\"../src/main/resources/IR_PHA_R/Sources/antidepresseurs_10jan17.xls\")\n",
    "\n",
    "columns_mapping = {\n",
    "    \"cip13\": \"PHA_CIP_C13\",\n",
    "    \"nom_court\": \"PHA_MED_NOM\",\n",
    "    \"code_eph\": \"PHA_EPH_COD\",\n",
    "    \"classe_eph\": \"PHA_EPH_LIB_DSES\",\n",
    "    \"code_atc\": \"PHA_ATC_C07\",\n",
    "    \"classe_atc\": \"PHA_ATC_L07\",\n",
    "    \"CODATC2\": \"PHA_ATC_C03\",\n",
    "    \"LIBATC2\": \"PHA_ATC_L03\",\n",
    "    \"CIP7\": \"PHA_PRS_IDE\",\n",
    "}\n",
    "\n",
    "antidepresseur = Source(antidepresseurs, columns_mapping)\n",
    "irphar = consolidator.consolidate(irphar, antidepresseur)"
   ]
  },
  {
   "cell_type": "markdown",
   "metadata": {},
   "source": [
    "#  Anxiolytiques"
   ]
  },
  {
   "cell_type": "code",
   "execution_count": 10,
   "metadata": {},
   "outputs": [
    {
     "name": "stdout",
     "output_type": "stream",
     "text": [
      "Number of missing values in IRPHARA table that are available in the new source table are 0\n",
      "0 values have been added to IRPHAR\n"
     ]
    }
   ],
   "source": [
    "anxiolytiques = pd.read_excel(\"../src/main/resources/IR_PHA_R/Sources/anxiohypno_10jan17.xls\")\n",
    "\n",
    "columns_mapping = {\n",
    "    \"cip13\": \"PHA_CIP_C13\",\n",
    "    \"nom_court\": \"PHA_MED_NOM\",\n",
    "    \"code_eph\": \"PHA_EPH_COD\",\n",
    "    \"classe_eph\": \"PHA_EPH_LIB_DSES\",\n",
    "    \"code_atc\": \"PHA_ATC_C07\",\n",
    "    \"classe_atc\": \"PHA_ATC_L07\",\n",
    "    \"CIP7\": \"PHA_PRS_IDE\",\n",
    "}\n",
    "\n",
    "anxio = Source(anxiolytiques, columns_mapping)\n",
    "\n",
    "consolidator = Consolidator()\n",
    "irphar = consolidator.consolidate(irphar, anxio)"
   ]
  },
  {
   "cell_type": "markdown",
   "metadata": {},
   "source": [
    "# Neuroleptiques"
   ]
  },
  {
   "cell_type": "code",
   "execution_count": 11,
   "metadata": {},
   "outputs": [
    {
     "name": "stdout",
     "output_type": "stream",
     "text": [
      "Number of missing values in IRPHARA table that are available in the new source table are 0\n",
      "0 values have been added to IRPHAR\n"
     ]
    }
   ],
   "source": [
    "neuroleptiques = pd.read_excel(\"../src/main/resources/IR_PHA_R/Sources/neuroleptiques_10jan17.xls\")\n",
    "\n",
    "columns_mapping = {\n",
    "    \"cip13\": \"PHA_CIP_C13\",\n",
    "    \"nom_court\": \"PHA_MED_NOM\",\n",
    "    \"code_eph\": \"PHA_EPH_COD\",\n",
    "    \"classe_eph\": \"PHA_EPH_LIB_DSES\",\n",
    "    \"code_atc\": \"PHA_ATC_C07\",\n",
    "    \"classe_atc\": \"PHA_ATC_L07\",\n",
    "    \"CODATC2\": \"PHA_ATC_C03\",\n",
    "    \"LIBATC2\": \"PHA_ATC_L03\",\n",
    "    \"CIP7\": \"PHA_PRS_IDE\",\n",
    "}\n",
    "\n",
    "neuro = Source(neuroleptiques, columns_mapping)\n",
    "irphar = consolidator.consolidate(irphar, neuro)"
   ]
  },
  {
   "cell_type": "markdown",
   "metadata": {},
   "source": [
    "# HTA II "
   ]
  },
  {
   "cell_type": "code",
   "execution_count": 9,
   "metadata": {},
   "outputs": [
    {
     "name": "stdout",
     "output_type": "stream",
     "text": [
      "Number of missing values in IRPHARA table that are available in the new source table are 0\n",
      "0 values have been added to IRPHAR\n"
     ]
    }
   ],
   "source": [
    "hta2 = pd.read_excel(\"../src/main/resources/IR_PHA_R/Sources/meedicaments_hta_10jan17.xls\")\n",
    "\n",
    "columns_mapping = {\n",
    "    \"code_eph\": \"PHA_EPH_COD\",\n",
    "    \"CODATC2\": \"PHA_ATC_C03\",\n",
    "    \"classe_eph\": \"PHA_EPH_LIB_DSES\",\n",
    "    \"cip13\": \"PHA_CIP_C13\",\n",
    "    \"nom_court\": \"PHA_MED_NOM\",\n",
    "    \"code_atc\": \"PHA_ATC_C07\",\n",
    "    \"LIBATC2\": \"PHA_ATC_L03\",\n",
    "    \"top_hta\": \"PHA_HTA_TOP\",\n",
    "    \"CIP7\": \"PHA_PRS_IDE\",\n",
    "    \"top_gdcond\": \"PHA_CND_TOP\"\n",
    "}\n",
    "\n",
    "hta_source2 = Source(hta2, columns_mapping)\n",
    "irphar = consolidator.consolidate(irphar, hta_source2)"
   ]
  },
  {
   "cell_type": "markdown",
   "metadata": {},
   "source": [
    "# Store new IRPHAR "
   ]
  },
  {
   "cell_type": "code",
   "execution_count": 12,
   "metadata": {
    "collapsed": true
   },
   "outputs": [],
   "source": [
    "irphar.df.to_csv(\"../src/main/resources/IR_PHA_R/IR_PHA_R.csv\", encoding=\"utf-8\", sep=\";\")"
   ]
  }
 ],
 "metadata": {
  "kernelspec": {
   "display_name": "Python [conda env:CMAP]",
   "language": "python",
   "name": "conda-env-CMAP-py"
  },
  "language_info": {
   "codemirror_mode": {
    "name": "ipython",
    "version": 3
   },
   "file_extension": ".py",
   "mimetype": "text/x-python",
   "name": "python",
   "nbconvert_exporter": "python",
   "pygments_lexer": "ipython3",
   "version": "3.5.3"
  }
 },
 "nbformat": 4,
 "nbformat_minor": 2
}
