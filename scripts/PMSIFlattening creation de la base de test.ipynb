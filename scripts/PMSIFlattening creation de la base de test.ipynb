{
 "cells": [
  {
   "cell_type": "code",
   "execution_count": 1,
   "metadata": {},
   "outputs": [],
   "source": [
    "import pyspark.sql.functions as func\n",
    "from pyspark import SparkContext, SparkConf\n",
    "from pyspark.sql import SQLContext, DataFrame\n",
    "import pyarrow.parquet as pq\n",
    "import pandas as pd\n",
    "import os"
   ]
  },
  {
   "cell_type": "code",
   "execution_count": 2,
   "metadata": {},
   "outputs": [],
   "source": [
    "path_parquet = '../src/test/resources/flattening/parquet-table/single_table'\n",
    "path_PMSI_flat = '../src/test/resources/flattening/parquet-table/flat_table/PMSI_Flat'"
   ]
  },
  {
   "cell_type": "code",
   "execution_count": 3,
   "metadata": {},
   "outputs": [
    {
     "data": {
      "text/plain": [
       "['year=2007', 'year=2008', 'year=2006']"
      ]
     },
     "execution_count": 3,
     "metadata": {},
     "output_type": "execute_result"
    }
   ],
   "source": [
    "os.listdir(path_parquet + '/MCO_D')"
   ]
  },
  {
   "cell_type": "code",
   "execution_count": 4,
   "metadata": {},
   "outputs": [
    {
     "data": {
      "text/html": [
       "<div>\n",
       "<style scoped>\n",
       "    .dataframe tbody tr th:only-of-type {\n",
       "        vertical-align: middle;\n",
       "    }\n",
       "\n",
       "    .dataframe tbody tr th {\n",
       "        vertical-align: top;\n",
       "    }\n",
       "\n",
       "    .dataframe thead th {\n",
       "        text-align: right;\n",
       "    }\n",
       "</style>\n",
       "<table border=\"1\" class=\"dataframe\">\n",
       "  <thead>\n",
       "    <tr style=\"text-align: right;\">\n",
       "      <th></th>\n",
       "      <th>ASS_DGN</th>\n",
       "      <th>ETA_NUM</th>\n",
       "      <th>RSA_NUM</th>\n",
       "      <th>RSS_NUM</th>\n",
       "      <th>year</th>\n",
       "    </tr>\n",
       "  </thead>\n",
       "  <tbody>\n",
       "    <tr>\n",
       "      <td>0</td>\n",
       "      <td>C66.9</td>\n",
       "      <td>10000123</td>\n",
       "      <td>10000543</td>\n",
       "      <td>217</td>\n",
       "      <td>2006</td>\n",
       "    </tr>\n",
       "    <tr>\n",
       "      <td>1</td>\n",
       "      <td>C66.5</td>\n",
       "      <td>10000123</td>\n",
       "      <td>20000123</td>\n",
       "      <td>217</td>\n",
       "      <td>2007</td>\n",
       "    </tr>\n",
       "    <tr>\n",
       "      <td>2</td>\n",
       "      <td>C652</td>\n",
       "      <td>10000123</td>\n",
       "      <td>30000852</td>\n",
       "      <td>217</td>\n",
       "      <td>2008</td>\n",
       "    </tr>\n",
       "  </tbody>\n",
       "</table>\n",
       "</div>"
      ],
      "text/plain": [
       "  ASS_DGN   ETA_NUM   RSA_NUM RSS_NUM  year\n",
       "0   C66.9  10000123  10000543     217  2006\n",
       "1   C66.5  10000123  20000123     217  2007\n",
       "2    C652  10000123  30000852     217  2008"
      ]
     },
     "execution_count": 4,
     "metadata": {},
     "output_type": "execute_result"
    }
   ],
   "source": [
    " pd.read_parquet(path_parquet + '/MCO_D')"
   ]
  },
  {
   "cell_type": "code",
   "execution_count": 5,
   "metadata": {},
   "outputs": [],
   "source": [
    "liste_bases = [base for base in os.listdir(path_parquet) if (\"MCO\" in base)]"
   ]
  },
  {
   "cell_type": "code",
   "execution_count": 6,
   "metadata": {},
   "outputs": [
    {
     "data": {
      "text/plain": [
       "['MCO_D', 'MCO_C', 'MCO_B', 'MCO_UM', 'MCO_A']"
      ]
     },
     "execution_count": 6,
     "metadata": {},
     "output_type": "execute_result"
    }
   ],
   "source": [
    "liste_bases"
   ]
  },
  {
   "cell_type": "code",
   "execution_count": 7,
   "metadata": {},
   "outputs": [
    {
     "name": "stderr",
     "output_type": "stream",
     "text": [
      "/usr/local/lib/python3.7/site-packages/ipykernel_launcher.py:9: FutureWarning: Sorting because non-concatenation axis is not aligned. A future version\n",
      "of pandas will change to not sort by default.\n",
      "\n",
      "To accept the future behavior, pass 'sort=False'.\n",
      "\n",
      "To retain the current behavior and silence the warning, pass 'sort=True'.\n",
      "\n",
      "  if __name__ == '__main__':\n"
     ]
    }
   ],
   "source": [
    "bases_MCO = {}\n",
    "\n",
    "for base in liste_bases:\n",
    "    path = path_parquet + '/' + base\n",
    "    bases_MCO[base] = pd.DataFrame()\n",
    "    for year in os.listdir(path):\n",
    "        temp_df = pd.read_parquet(path = path + '/' + year, engine=\"pyarrow\")\n",
    "        temp_df['year'] = int(year.split(\"=\")[1])\n",
    "        bases_MCO[base] = pd.concat([bases_MCO[base], temp_df])"
   ]
  },
  {
   "cell_type": "code",
   "execution_count": 8,
   "metadata": {},
   "outputs": [
    {
     "data": {
      "text/html": [
       "<div>\n",
       "<style scoped>\n",
       "    .dataframe tbody tr th:only-of-type {\n",
       "        vertical-align: middle;\n",
       "    }\n",
       "\n",
       "    .dataframe tbody tr th {\n",
       "        vertical-align: top;\n",
       "    }\n",
       "\n",
       "    .dataframe thead th {\n",
       "        text-align: right;\n",
       "    }\n",
       "</style>\n",
       "<table border=\"1\" class=\"dataframe\">\n",
       "  <thead>\n",
       "    <tr style=\"text-align: right;\">\n",
       "      <th></th>\n",
       "      <th>DAT_RET</th>\n",
       "      <th>ENT_DAT</th>\n",
       "      <th>ETA_NUM</th>\n",
       "      <th>FHO_RET</th>\n",
       "      <th>FOR_NUM</th>\n",
       "      <th>NAI_RET</th>\n",
       "      <th>NIR_RET</th>\n",
       "      <th>NUM_ENQ</th>\n",
       "      <th>PMS_RET</th>\n",
       "      <th>RSA_NUM</th>\n",
       "      <th>SEJ_NUM</th>\n",
       "      <th>SEJ_RET</th>\n",
       "      <th>SEX_RET</th>\n",
       "      <th>SOR_ANN</th>\n",
       "      <th>SOR_DAT</th>\n",
       "      <th>SOR_MOI</th>\n",
       "      <th>VID_HOSP_FOR</th>\n",
       "      <th>year</th>\n",
       "    </tr>\n",
       "  </thead>\n",
       "  <tbody>\n",
       "    <tr>\n",
       "      <td>0</td>\n",
       "      <td>0</td>\n",
       "      <td>NaN</td>\n",
       "      <td>10000123</td>\n",
       "      <td>0</td>\n",
       "      <td>NaN</td>\n",
       "      <td>0</td>\n",
       "      <td>0</td>\n",
       "      <td>Patient_02</td>\n",
       "      <td>0</td>\n",
       "      <td>20000123</td>\n",
       "      <td>50</td>\n",
       "      <td>0</td>\n",
       "      <td>0</td>\n",
       "      <td>2007</td>\n",
       "      <td>NaN</td>\n",
       "      <td>2</td>\n",
       "      <td>NaN</td>\n",
       "      <td>2007</td>\n",
       "    </tr>\n",
       "    <tr>\n",
       "      <td>1</td>\n",
       "      <td>0</td>\n",
       "      <td>NaN</td>\n",
       "      <td>10000123</td>\n",
       "      <td>0</td>\n",
       "      <td>NaN</td>\n",
       "      <td>0</td>\n",
       "      <td>0</td>\n",
       "      <td>Patient_02</td>\n",
       "      <td>0</td>\n",
       "      <td>20000345</td>\n",
       "      <td>55</td>\n",
       "      <td>0</td>\n",
       "      <td>0</td>\n",
       "      <td>2007</td>\n",
       "      <td>NaN</td>\n",
       "      <td>2</td>\n",
       "      <td>NaN</td>\n",
       "      <td>2007</td>\n",
       "    </tr>\n",
       "    <tr>\n",
       "      <td>0</td>\n",
       "      <td>0</td>\n",
       "      <td>08032008</td>\n",
       "      <td>10000123</td>\n",
       "      <td>0</td>\n",
       "      <td>2</td>\n",
       "      <td>0</td>\n",
       "      <td>0</td>\n",
       "      <td>Patient_02</td>\n",
       "      <td>0</td>\n",
       "      <td>30000546</td>\n",
       "      <td>90</td>\n",
       "      <td>0</td>\n",
       "      <td>0</td>\n",
       "      <td>2008</td>\n",
       "      <td>10032008</td>\n",
       "      <td>3</td>\n",
       "      <td>10</td>\n",
       "      <td>2008</td>\n",
       "    </tr>\n",
       "    <tr>\n",
       "      <td>1</td>\n",
       "      <td>0</td>\n",
       "      <td>15032008</td>\n",
       "      <td>10000123</td>\n",
       "      <td>0</td>\n",
       "      <td>2</td>\n",
       "      <td>0</td>\n",
       "      <td>0</td>\n",
       "      <td>Patient_02</td>\n",
       "      <td>0</td>\n",
       "      <td>30000852</td>\n",
       "      <td>95</td>\n",
       "      <td>0</td>\n",
       "      <td>0</td>\n",
       "      <td>2008</td>\n",
       "      <td>17032008</td>\n",
       "      <td>3</td>\n",
       "      <td>10</td>\n",
       "      <td>2008</td>\n",
       "    </tr>\n",
       "    <tr>\n",
       "      <td>0</td>\n",
       "      <td>0</td>\n",
       "      <td>NaN</td>\n",
       "      <td>10000123</td>\n",
       "      <td>0</td>\n",
       "      <td>NaN</td>\n",
       "      <td>0</td>\n",
       "      <td>0</td>\n",
       "      <td>Patient_02</td>\n",
       "      <td>0</td>\n",
       "      <td>10000987</td>\n",
       "      <td>4</td>\n",
       "      <td>0</td>\n",
       "      <td>0</td>\n",
       "      <td>2006</td>\n",
       "      <td>NaN</td>\n",
       "      <td>1</td>\n",
       "      <td>NaN</td>\n",
       "      <td>2006</td>\n",
       "    </tr>\n",
       "    <tr>\n",
       "      <td>1</td>\n",
       "      <td>0</td>\n",
       "      <td>NaN</td>\n",
       "      <td>10000123</td>\n",
       "      <td>0</td>\n",
       "      <td>NaN</td>\n",
       "      <td>0</td>\n",
       "      <td>0</td>\n",
       "      <td>Patient_02</td>\n",
       "      <td>0</td>\n",
       "      <td>10000543</td>\n",
       "      <td>9</td>\n",
       "      <td>0</td>\n",
       "      <td>0</td>\n",
       "      <td>2006</td>\n",
       "      <td>NaN</td>\n",
       "      <td>1</td>\n",
       "      <td>NaN</td>\n",
       "      <td>2006</td>\n",
       "    </tr>\n",
       "  </tbody>\n",
       "</table>\n",
       "</div>"
      ],
      "text/plain": [
       "  DAT_RET   ENT_DAT   ETA_NUM FHO_RET FOR_NUM NAI_RET NIR_RET     NUM_ENQ  \\\n",
       "0       0       NaN  10000123       0     NaN       0       0  Patient_02   \n",
       "1       0       NaN  10000123       0     NaN       0       0  Patient_02   \n",
       "0       0  08032008  10000123       0       2       0       0  Patient_02   \n",
       "1       0  15032008  10000123       0       2       0       0  Patient_02   \n",
       "0       0       NaN  10000123       0     NaN       0       0  Patient_02   \n",
       "1       0       NaN  10000123       0     NaN       0       0  Patient_02   \n",
       "\n",
       "  PMS_RET   RSA_NUM SEJ_NUM SEJ_RET SEX_RET SOR_ANN   SOR_DAT SOR_MOI  \\\n",
       "0       0  20000123      50       0       0    2007       NaN       2   \n",
       "1       0  20000345      55       0       0    2007       NaN       2   \n",
       "0       0  30000546      90       0       0    2008  10032008       3   \n",
       "1       0  30000852      95       0       0    2008  17032008       3   \n",
       "0       0  10000987       4       0       0    2006       NaN       1   \n",
       "1       0  10000543       9       0       0    2006       NaN       1   \n",
       "\n",
       "  VID_HOSP_FOR  year  \n",
       "0          NaN  2007  \n",
       "1          NaN  2007  \n",
       "0           10  2008  \n",
       "1           10  2008  \n",
       "0          NaN  2006  \n",
       "1          NaN  2006  "
      ]
     },
     "execution_count": 8,
     "metadata": {},
     "output_type": "execute_result"
    }
   ],
   "source": [
    "bases_MCO['MCO_C']"
   ]
  },
  {
   "cell_type": "code",
   "execution_count": 9,
   "metadata": {},
   "outputs": [
    {
     "name": "stdout",
     "output_type": "stream",
     "text": [
      "MCO_D  :  (3, 5)   Index(['MCO_D__ASS_DGN', 'ETA_NUM', 'RSA_NUM', 'MCO_D__RSS_NUM', 'year'], dtype='object')\n",
      "MCO_C  :  (6, 18)   Index(['MCO_C__DAT_RET', 'MCO_C__ENT_DAT', 'ETA_NUM', 'MCO_C__FHO_RET',\n",
      "       'MCO_C__FOR_NUM', 'MCO_C__NAI_RET', 'MCO_C__NIR_RET', 'MCO_C__NUM_ENQ',\n",
      "       'MCO_C__PMS_RET', 'RSA_NUM', 'MCO_C__SEJ_NUM', 'MCO_C__SEJ_RET',\n",
      "       'MCO_C__SEX_RET', 'MCO_C__SOR_ANN', 'MCO_C__SOR_DAT', 'MCO_C__SOR_MOI',\n",
      "       'MCO_C__VID_HOSP_FOR', 'year'],\n",
      "      dtype='object')\n",
      "MCO_B  :  (6, 64)   Index(['AGE_ANN', 'AGE_GES', 'AGE_JOU', 'BDI_COD', 'BDI_DEP', 'BEB_SEJ',\n",
      "       'BEH_NBJ', 'CAI_SUP_NBR', 'COD_IGS', 'COD_SEX', 'DGN_PAL', 'DGN_REL',\n",
      "       'DLY_ACT', 'ENT_MOD', 'ENT_PRV', 'ETA_NUM', 'ETE_GHS_NUM',\n",
      "       'GHM_24705Z_ACT', 'GHM_24706Z_ACT', 'GHM_24707Z_ACT', 'GHS_9510_ACT',\n",
      "       'GHS_9511_ACT', 'GHS_9512_ACT', 'GHS_9515_ACT', 'GHS_9524_ACT',\n",
      "       'GHS_NUM', 'GRC_GHM', 'GRC_RET', 'GRC_VER', 'GRG_GHM', 'GRG_RET',\n",
      "       'GRG_VER', 'NBR_ACT', 'NBR_DGN', 'NBR_RUM', 'NBR_SEA', 'NBR_SEA_SROS',\n",
      "       'NBR_SUP_NN1', 'NBR_SUP_NN2', 'NBR_SUP_NN3', 'NBR_SUP_REA',\n",
      "       'NBR_SUP_REP', 'NBR_SUP_SOI', 'NBR_SUP_SRA', 'NBR_SUP_SRC',\n",
      "       'NBR_SUP_SSC', 'NBR_SUP_STF', 'PAS_LIT_DED', 'PLO_ACT', 'POI_NAI',\n",
      "       'RSA_NUM', 'RSS_NUM', 'SEJ_NBJ', 'SEJ_TYP', 'SEQ_RUM', 'SOR_ANN',\n",
      "       'SOR_DES', 'SOR_MOD', 'SOR_MOI', 'SUP_ENT_DPA', 'SUP_ENT_DPC',\n",
      "       'SUP_ENT_HEM', 'SUP_HEM_HS', 'year'],\n",
      "      dtype='object')\n",
      "MCO_UM  :  (2, 6)   Index(['MCO_UM__DGN_PAL', 'MCO_UM__DGN_REL', 'ETA_NUM', 'RSA_NUM',\n",
      "       'MCO_UM__RSS_NUM', 'year'],\n",
      "      dtype='object')\n",
      "MCO_A  :  (6, 14)   Index(['MCO_A__ACV_ACT', 'MCO_A__ANP_ACT', 'MCO_A__CDC_ACT', 'MCO_A__DOC_ACT',\n",
      "       'MCO_A__ENT_DAT_DEL', 'ETA_NUM', 'MCO_A__MOD_ACT', 'MCO_A__NBR_EXE_ACT',\n",
      "       'MCO_A__PHA_ACT', 'MCO_A__REM_EXP_ACT', 'RSA_NUM', 'MCO_A__RSS_NUM',\n",
      "       'MCO_A__RUM_SEQ', 'year'],\n",
      "      dtype='object')\n"
     ]
    }
   ],
   "source": [
    "for base in bases_MCO:\n",
    "    if base != 'MCO_B':\n",
    "        new_cols = [base + '__'+ col if col not in ['ETA_NUM', 'RSA_NUM', 'year'] else col for\n",
    "                    col in bases_MCO[base].columns ]\n",
    "        bases_MCO[base].columns = new_cols\n",
    "    print(base,' : ',bases_MCO[base].shape, \" \", bases_MCO[base].columns)"
   ]
  },
  {
   "cell_type": "markdown",
   "metadata": {},
   "source": [
    "# Construction de la base applatie"
   ]
  },
  {
   "cell_type": "markdown",
   "metadata": {},
   "source": [
    "MCO_B / MCO_C"
   ]
  },
  {
   "cell_type": "code",
   "execution_count": 10,
   "metadata": {},
   "outputs": [
    {
     "name": "stdout",
     "output_type": "stream",
     "text": [
      "(6, 80)\n"
     ]
    }
   ],
   "source": [
    "table_centrale = pd.merge(bases_MCO['MCO_B'], bases_MCO['MCO_C'], on=['ETA_NUM', 'RSA_NUM'], how='inner')\n",
    "print(table_centrale.shape)\n",
    "table_centrale.to_parquet(path_PMSI_flat + '/table_centrale.parquet', compression=None) "
   ]
  },
  {
   "cell_type": "markdown",
   "metadata": {},
   "source": [
    "ajout de MCO_A"
   ]
  },
  {
   "cell_type": "code",
   "execution_count": 11,
   "metadata": {},
   "outputs": [
    {
     "name": "stdout",
     "output_type": "stream",
     "text": [
      "(6, 92)\n"
     ]
    }
   ],
   "source": [
    "temp_MCO_A = pd.merge(table_centrale, bases_MCO['MCO_A'], on=['ETA_NUM', 'RSA_NUM'], how='inner')\n",
    "temp_MCO_A.to_parquet(path_PMSI_flat + '/tc_MCO_A.parquet', compression=None) \n",
    "print(temp_MCO_A.shape)\n",
    "PMSI_flat = temp_MCO_A"
   ]
  },
  {
   "cell_type": "markdown",
   "metadata": {},
   "source": [
    "ajout de MCO_D"
   ]
  },
  {
   "cell_type": "code",
   "execution_count": 12,
   "metadata": {},
   "outputs": [
    {
     "name": "stdout",
     "output_type": "stream",
     "text": [
      "(3, 83)\n",
      "(9, 94)\n"
     ]
    }
   ],
   "source": [
    "temp_MCO_D = pd.merge(table_centrale, bases_MCO['MCO_D'], on=['ETA_NUM', 'RSA_NUM'], how='inner')\n",
    "temp_MCO_D.to_parquet(path_PMSI_flat + '/tc_MCO_D.parquet', compression=None) \n",
    "print(temp_MCO_D.shape)\n",
    "PMSI_flat = pd.concat([PMSI_flat, temp_MCO_D], sort=True)\n",
    "print(PMSI_flat.shape)"
   ]
  },
  {
   "cell_type": "markdown",
   "metadata": {},
   "source": [
    "ajout de MCO_UM"
   ]
  },
  {
   "cell_type": "code",
   "execution_count": 13,
   "metadata": {},
   "outputs": [
    {
     "name": "stdout",
     "output_type": "stream",
     "text": [
      "(2, 84)\n",
      "(11, 97)\n"
     ]
    }
   ],
   "source": [
    "temp_MCO_UM = pd.merge(table_centrale, bases_MCO['MCO_UM'], on=['ETA_NUM', 'RSA_NUM'], how='inner')\n",
    "temp_MCO_UM.to_parquet(path_PMSI_flat + '/tc_MCO_UM.parquet', compression=None) \n",
    "print(temp_MCO_UM.shape)\n",
    "PMSI_flat = pd.concat([PMSI_flat, temp_MCO_UM], sort=True)\n",
    "print(PMSI_flat.shape)\n",
    "del PMSI_flat['year_x'], PMSI_flat['year_y'] \n",
    "PMSI_flat.to_parquet(path_PMSI_flat + '/PMSI_flat.parquet', compression=None, index=False) "
   ]
  },
  {
   "cell_type": "code",
   "execution_count": 15,
   "metadata": {},
   "outputs": [
    {
     "data": {
      "text/plain": [
       "(11, 95)"
      ]
     },
     "execution_count": 15,
     "metadata": {},
     "output_type": "execute_result"
    }
   ],
   "source": [
    "PMSI_flat.shape"
   ]
  },
  {
   "cell_type": "code",
   "execution_count": null,
   "metadata": {},
   "outputs": [],
   "source": []
  }
 ],
 "metadata": {
  "kernelspec": {
   "display_name": "Python 3",
   "language": "python",
   "name": "python3"
  },
  "language_info": {
   "codemirror_mode": {
    "name": "ipython",
    "version": 3
   },
   "file_extension": ".py",
   "mimetype": "text/x-python",
   "name": "python",
   "nbconvert_exporter": "python",
   "pygments_lexer": "ipython3",
   "version": "3.7.5"
  }
 },
 "nbformat": 4,
 "nbformat_minor": 4
}
