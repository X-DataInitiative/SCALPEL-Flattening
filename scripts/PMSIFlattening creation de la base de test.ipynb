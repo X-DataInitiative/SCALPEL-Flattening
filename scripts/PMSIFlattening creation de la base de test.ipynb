{
 "cells": [
  {
   "cell_type": "code",
   "execution_count": 1,
   "metadata": {},
   "outputs": [],
   "source": [
    "import pyspark.sql.functions as func\n",
    "from pyspark import SparkContext, SparkConf\n",
    "from pyspark.sql import SQLContext, DataFrame\n",
    "import pyarrow.parquet as pq\n",
    "import pandas as pd\n",
    "import os"
   ]
  },
  {
   "cell_type": "code",
   "execution_count": 2,
   "metadata": {},
   "outputs": [],
   "source": [
    "path_parquets = '../src/test/resources/flattening/parquet-table/single_table'\n",
    "path_PMSI_flat = '../src/test/resources/flattening/parquet-table/flat_table/PMSI_Flat'"
   ]
  },
  {
   "cell_type": "code",
   "execution_count": 3,
   "metadata": {},
   "outputs": [
    {
     "data": {
      "text/plain": [
       "['HAD_C',\n",
       " 'HAD_D',\n",
       " 'HAD_B',\n",
       " 'IR_IMB_R',\n",
       " 'MCO_D',\n",
       " 'MCO_C',\n",
       " 'MCO_B',\n",
       " 'ER_PRS_F',\n",
       " 'MCO_UM',\n",
       " 'SSR_CSARR',\n",
       " 'SSR_CCAM',\n",
       " 'SSR_C',\n",
       " 'SSR_D',\n",
       " 'HAD_A',\n",
       " 'SSR_B',\n",
       " 'ER_PHA_F',\n",
       " 'MCO_A',\n",
       " 'ER_CAM_F',\n",
       " 'IR_BEN_R']"
      ]
     },
     "execution_count": 3,
     "metadata": {},
     "output_type": "execute_result"
    }
   ],
   "source": [
    "os.listdir(path_parquets)"
   ]
  },
  {
   "cell_type": "code",
   "execution_count": 4,
   "metadata": {},
   "outputs": [],
   "source": [
    "liste_bases = [base for base in os.listdir(path_parquets) if base[:3]=='MCO']"
   ]
  },
  {
   "cell_type": "code",
   "execution_count": 5,
   "metadata": {},
   "outputs": [],
   "source": [
    "bases_MCO = {}\n",
    "\n",
    "for base in liste_bases:\n",
    "    if base == 'MCO_C' :\n",
    "        path = path_parquets + '/' + base + '/year=2008/NUM_ENQ=Patient_02'\n",
    "        parquet =  [file for file in os.listdir(path) if file.endswith('parquet')][0]\n",
    "        bases_MCO[base] = pq.read_table(path + '/' + parquet).to_pandas()\n",
    "    else:\n",
    "        path = path_parquets + '/' + base + '/year=2008'\n",
    "        parquet =  [file for file in os.listdir(path) if file.endswith('parquet')][0]\n",
    "        bases_MCO[base] = pq.read_table(path + '/' + parquet).to_pandas()"
   ]
  },
  {
   "cell_type": "code",
   "execution_count": 6,
   "metadata": {},
   "outputs": [
    {
     "name": "stdout",
     "output_type": "stream",
     "text": [
      "MCO_D  :  (1, 4)   Index(['MCO_D__ASS_DGN', 'ETA_NUM', 'RSA_NUM', 'MCO_D__RSS_NUM'], dtype='object')\n",
      "MCO_C  :  (2, 16)   Index(['MCO_C__DAT_RET', 'ETA_NUM', 'MCO_C__FHO_RET', 'MCO_C__FOR_NUM',\n",
      "       'MCO_C__NAI_RET', 'MCO_C__NIR_RET', 'MCO_C__PMS_RET', 'RSA_NUM',\n",
      "       'MCO_C__SEJ_NUM', 'MCO_C__SEJ_RET', 'MCO_C__SEX_RET', 'MCO_C__SOR_ANN',\n",
      "       'MCO_C__SOR_MOI', 'MCO_C__VID_HOSP_FOR', 'MCO_C__ENT_DAT',\n",
      "       'MCO_C__SOR_DAT'],\n",
      "      dtype='object')\n",
      "MCO_B  :  (2, 60)   Index(['BDI_DEP', 'BDI_COD', 'AGE_ANN', 'AGE_GES', 'AGE_JOU', 'BEB_SEJ',\n",
      "       'BEH_NBJ', 'CAI_SUP_NBR', 'COD_IGS', 'COD_SEX', 'DGN_PAL', 'DGN_REL',\n",
      "       'DLY_ACT', 'ENT_MOD', 'ENT_PRV', 'ETA_NUM', 'ETE_GHS_NUM',\n",
      "       'GHS_9510_ACT', 'GHS_9511_ACT', 'GHS_9512_ACT', 'GHS_9515_ACT',\n",
      "       'GHS_9524_ACT', 'GHS_NUM', 'GRC_GHM', 'GRC_RET', 'GRC_VER', 'GRG_GHM',\n",
      "       'GRG_RET', 'GRG_VER', 'NBR_ACT', 'NBR_DGN', 'NBR_RUM', 'NBR_SEA',\n",
      "       'NBR_SEA_SROS', 'NBR_SUP_NN1', 'NBR_SUP_NN2', 'NBR_SUP_NN3',\n",
      "       'NBR_SUP_REA', 'NBR_SUP_REP', 'NBR_SUP_SOI', 'NBR_SUP_SRA',\n",
      "       'NBR_SUP_SRC', 'NBR_SUP_SSC', 'NBR_SUP_STF', 'PAS_LIT_DED', 'PLO_ACT',\n",
      "       'POI_NAI', 'RSA_NUM', 'RSS_NUM', 'SEJ_NBJ', 'SEJ_TYP', 'SEQ_RUM',\n",
      "       'SOR_ANN', 'SOR_DES', 'SOR_MOD', 'SOR_MOI', 'SUP_ENT_DPA',\n",
      "       'SUP_ENT_DPC', 'SUP_ENT_HEM', 'SUP_HEM_HS'],\n",
      "      dtype='object')\n",
      "MCO_UM  :  (2, 5)   Index(['MCO_UM__DGN_PAL', 'MCO_UM__DGN_REL', 'ETA_NUM', 'RSA_NUM',\n",
      "       'MCO_UM__RSS_NUM'],\n",
      "      dtype='object')\n",
      "MCO_A  :  (2, 13)   Index(['MCO_A__ACV_ACT', 'MCO_A__ANP_ACT', 'MCO_A__CDC_ACT', 'MCO_A__DOC_ACT',\n",
      "       'MCO_A__ENT_DAT_DEL', 'ETA_NUM', 'MCO_A__MOD_ACT', 'MCO_A__NBR_EXE_ACT',\n",
      "       'MCO_A__PHA_ACT', 'MCO_A__REM_EXP_ACT', 'RSA_NUM', 'MCO_A__RSS_NUM',\n",
      "       'MCO_A__RUM_SEQ'],\n",
      "      dtype='object')\n"
     ]
    }
   ],
   "source": [
    "for base in bases_MCO:\n",
    "    if base != 'MCO_B':\n",
    "        new_cols = [base + '__'+ col if col not in ['ETA_NUM', 'RSA_NUM'] else col for\n",
    "                    col in bases_MCO[base].columns ]\n",
    "        bases_MCO[base].columns = new_cols\n",
    "    print(base,' : ',bases_MCO[base].shape, \" \", bases_MCO[base].columns)"
   ]
  },
  {
   "cell_type": "markdown",
   "metadata": {},
   "source": [
    "# Construction de la base applatie"
   ]
  },
  {
   "cell_type": "markdown",
   "metadata": {},
   "source": [
    "MCO_B / MCO_C"
   ]
  },
  {
   "cell_type": "code",
   "execution_count": 7,
   "metadata": {},
   "outputs": [
    {
     "name": "stdout",
     "output_type": "stream",
     "text": [
      "(2, 74)\n"
     ]
    }
   ],
   "source": [
    "table_centrale = pd.merge(bases_MCO['MCO_B'], bases_MCO['MCO_C'], on=['ETA_NUM', 'RSA_NUM'], how='inner')\n",
    "print(table_centrale.shape)\n",
    "table_centrale.to_parquet(path_PMSI_flat + '/table_centrale.parquet', compression=None) "
   ]
  },
  {
   "cell_type": "markdown",
   "metadata": {},
   "source": [
    "ajout de MCO_A"
   ]
  },
  {
   "cell_type": "code",
   "execution_count": 8,
   "metadata": {},
   "outputs": [
    {
     "name": "stdout",
     "output_type": "stream",
     "text": [
      "(2, 85)\n"
     ]
    }
   ],
   "source": [
    "temp_MCO_A = pd.merge(table_centrale, bases_MCO['MCO_A'], on=['ETA_NUM', 'RSA_NUM'], how='inner')\n",
    "temp_MCO_A.to_parquet(path_PMSI_flat + '/tc_MCO_A.parquet', compression=None) \n",
    "print(temp_MCO_A.shape)\n",
    "PMSI_flat = temp_MCO_A"
   ]
  },
  {
   "cell_type": "markdown",
   "metadata": {},
   "source": [
    "ajout de MCO_D"
   ]
  },
  {
   "cell_type": "code",
   "execution_count": 9,
   "metadata": {},
   "outputs": [
    {
     "name": "stdout",
     "output_type": "stream",
     "text": [
      "(1, 76)\n",
      "(3, 87)\n"
     ]
    }
   ],
   "source": [
    "temp_MCO_D = pd.merge(table_centrale, bases_MCO['MCO_D'], on=['ETA_NUM', 'RSA_NUM'], how='inner')\n",
    "temp_MCO_D.to_parquet(path_PMSI_flat + '/tc_MCO_D.parquet', compression=None) \n",
    "print(temp_MCO_D.shape)\n",
    "PMSI_flat = pd.concat([PMSI_flat, temp_MCO_D], sort=True)\n",
    "print(PMSI_flat.shape)"
   ]
  },
  {
   "cell_type": "markdown",
   "metadata": {},
   "source": [
    "ajout de MCO_UM"
   ]
  },
  {
   "cell_type": "code",
   "execution_count": 10,
   "metadata": {},
   "outputs": [
    {
     "name": "stdout",
     "output_type": "stream",
     "text": [
      "(2, 77)\n",
      "(5, 90)\n"
     ]
    }
   ],
   "source": [
    "temp_MCO_UM = pd.merge(table_centrale, bases_MCO['MCO_UM'], on=['ETA_NUM', 'RSA_NUM'], how='inner')\n",
    "temp_MCO_UM.to_parquet(path_PMSI_flat + '/tc_MCO_UM.parquet', compression=None) \n",
    "print(temp_MCO_UM.shape)\n",
    "PMSI_flat = pd.concat([PMSI_flat, temp_MCO_UM], sort=True)\n",
    "print(PMSI_flat.shape)\n",
    "PMSI_flat.to_parquet(path_PMSI_flat + '/PMSI_flat.parquet', compression=None) "
   ]
  },
  {
   "cell_type": "code",
   "execution_count": 11,
   "metadata": {},
   "outputs": [
    {
     "data": {
      "text/html": [
       "<div>\n",
       "<style scoped>\n",
       "    .dataframe tbody tr th:only-of-type {\n",
       "        vertical-align: middle;\n",
       "    }\n",
       "\n",
       "    .dataframe tbody tr th {\n",
       "        vertical-align: top;\n",
       "    }\n",
       "\n",
       "    .dataframe thead th {\n",
       "        text-align: right;\n",
       "    }\n",
       "</style>\n",
       "<table border=\"1\" class=\"dataframe\">\n",
       "  <thead>\n",
       "    <tr style=\"text-align: right;\">\n",
       "      <th></th>\n",
       "      <th>AGE_ANN</th>\n",
       "      <th>AGE_GES</th>\n",
       "      <th>AGE_JOU</th>\n",
       "      <th>BDI_COD</th>\n",
       "      <th>BDI_DEP</th>\n",
       "      <th>BEB_SEJ</th>\n",
       "      <th>BEH_NBJ</th>\n",
       "      <th>CAI_SUP_NBR</th>\n",
       "      <th>COD_IGS</th>\n",
       "      <th>COD_SEX</th>\n",
       "      <th>...</th>\n",
       "      <th>SEJ_TYP</th>\n",
       "      <th>SEQ_RUM</th>\n",
       "      <th>SOR_ANN</th>\n",
       "      <th>SOR_DES</th>\n",
       "      <th>SOR_MOD</th>\n",
       "      <th>SOR_MOI</th>\n",
       "      <th>SUP_ENT_DPA</th>\n",
       "      <th>SUP_ENT_DPC</th>\n",
       "      <th>SUP_ENT_HEM</th>\n",
       "      <th>SUP_HEM_HS</th>\n",
       "    </tr>\n",
       "  </thead>\n",
       "  <tbody>\n",
       "    <tr>\n",
       "      <td>0</td>\n",
       "      <td>35</td>\n",
       "      <td>NaN</td>\n",
       "      <td>NaN</td>\n",
       "      <td>75014</td>\n",
       "      <td>75</td>\n",
       "      <td>0</td>\n",
       "      <td>0</td>\n",
       "      <td>0</td>\n",
       "      <td>None</td>\n",
       "      <td>1</td>\n",
       "      <td>...</td>\n",
       "      <td>None</td>\n",
       "      <td>10</td>\n",
       "      <td>2008</td>\n",
       "      <td>None</td>\n",
       "      <td>5</td>\n",
       "      <td>3</td>\n",
       "      <td>0</td>\n",
       "      <td>0</td>\n",
       "      <td>0</td>\n",
       "      <td>0</td>\n",
       "    </tr>\n",
       "    <tr>\n",
       "      <td>1</td>\n",
       "      <td>35</td>\n",
       "      <td>NaN</td>\n",
       "      <td>NaN</td>\n",
       "      <td>75014</td>\n",
       "      <td>75</td>\n",
       "      <td>1</td>\n",
       "      <td>0</td>\n",
       "      <td>0</td>\n",
       "      <td>None</td>\n",
       "      <td>1</td>\n",
       "      <td>...</td>\n",
       "      <td>None</td>\n",
       "      <td>10</td>\n",
       "      <td>2008</td>\n",
       "      <td>None</td>\n",
       "      <td>5</td>\n",
       "      <td>3</td>\n",
       "      <td>0</td>\n",
       "      <td>0</td>\n",
       "      <td>0</td>\n",
       "      <td>0</td>\n",
       "    </tr>\n",
       "    <tr>\n",
       "      <td>0</td>\n",
       "      <td>35</td>\n",
       "      <td>NaN</td>\n",
       "      <td>NaN</td>\n",
       "      <td>75014</td>\n",
       "      <td>75</td>\n",
       "      <td>1</td>\n",
       "      <td>0</td>\n",
       "      <td>0</td>\n",
       "      <td>None</td>\n",
       "      <td>1</td>\n",
       "      <td>...</td>\n",
       "      <td>None</td>\n",
       "      <td>10</td>\n",
       "      <td>2008</td>\n",
       "      <td>None</td>\n",
       "      <td>5</td>\n",
       "      <td>3</td>\n",
       "      <td>0</td>\n",
       "      <td>0</td>\n",
       "      <td>0</td>\n",
       "      <td>0</td>\n",
       "    </tr>\n",
       "    <tr>\n",
       "      <td>0</td>\n",
       "      <td>35</td>\n",
       "      <td>NaN</td>\n",
       "      <td>NaN</td>\n",
       "      <td>75014</td>\n",
       "      <td>75</td>\n",
       "      <td>0</td>\n",
       "      <td>0</td>\n",
       "      <td>0</td>\n",
       "      <td>None</td>\n",
       "      <td>1</td>\n",
       "      <td>...</td>\n",
       "      <td>None</td>\n",
       "      <td>10</td>\n",
       "      <td>2008</td>\n",
       "      <td>None</td>\n",
       "      <td>5</td>\n",
       "      <td>3</td>\n",
       "      <td>0</td>\n",
       "      <td>0</td>\n",
       "      <td>0</td>\n",
       "      <td>0</td>\n",
       "    </tr>\n",
       "    <tr>\n",
       "      <td>1</td>\n",
       "      <td>35</td>\n",
       "      <td>NaN</td>\n",
       "      <td>NaN</td>\n",
       "      <td>75014</td>\n",
       "      <td>75</td>\n",
       "      <td>1</td>\n",
       "      <td>0</td>\n",
       "      <td>0</td>\n",
       "      <td>None</td>\n",
       "      <td>1</td>\n",
       "      <td>...</td>\n",
       "      <td>None</td>\n",
       "      <td>10</td>\n",
       "      <td>2008</td>\n",
       "      <td>None</td>\n",
       "      <td>5</td>\n",
       "      <td>3</td>\n",
       "      <td>0</td>\n",
       "      <td>0</td>\n",
       "      <td>0</td>\n",
       "      <td>0</td>\n",
       "    </tr>\n",
       "  </tbody>\n",
       "</table>\n",
       "<p>5 rows × 90 columns</p>\n",
       "</div>"
      ],
      "text/plain": [
       "   AGE_ANN  AGE_GES  AGE_JOU BDI_COD BDI_DEP BEB_SEJ  BEH_NBJ  CAI_SUP_NBR  \\\n",
       "0       35      NaN      NaN   75014      75       0        0            0   \n",
       "1       35      NaN      NaN   75014      75       1        0            0   \n",
       "0       35      NaN      NaN   75014      75       1        0            0   \n",
       "0       35      NaN      NaN   75014      75       0        0            0   \n",
       "1       35      NaN      NaN   75014      75       1        0            0   \n",
       "\n",
       "  COD_IGS COD_SEX  ... SEJ_TYP SEQ_RUM SOR_ANN SOR_DES SOR_MOD SOR_MOI  \\\n",
       "0    None       1  ...    None      10    2008    None       5       3   \n",
       "1    None       1  ...    None      10    2008    None       5       3   \n",
       "0    None       1  ...    None      10    2008    None       5       3   \n",
       "0    None       1  ...    None      10    2008    None       5       3   \n",
       "1    None       1  ...    None      10    2008    None       5       3   \n",
       "\n",
       "   SUP_ENT_DPA  SUP_ENT_DPC  SUP_ENT_HEM  SUP_HEM_HS  \n",
       "0            0            0            0           0  \n",
       "1            0            0            0           0  \n",
       "0            0            0            0           0  \n",
       "0            0            0            0           0  \n",
       "1            0            0            0           0  \n",
       "\n",
       "[5 rows x 90 columns]"
      ]
     },
     "execution_count": 11,
     "metadata": {},
     "output_type": "execute_result"
    }
   ],
   "source": [
    "PMSI_flat"
   ]
  },
  {
   "cell_type": "code",
   "execution_count": null,
   "metadata": {},
   "outputs": [],
   "source": []
  }
 ],
 "metadata": {
  "kernelspec": {
   "display_name": "Python 3",
   "language": "python",
   "name": "python3"
  },
  "language_info": {
   "codemirror_mode": {
    "name": "ipython",
    "version": 3
   },
   "file_extension": ".py",
   "mimetype": "text/x-python",
   "name": "python",
   "nbconvert_exporter": "python",
   "pygments_lexer": "ipython3",
   "version": "3.7.4"
  }
 },
 "nbformat": 4,
 "nbformat_minor": 2
}
