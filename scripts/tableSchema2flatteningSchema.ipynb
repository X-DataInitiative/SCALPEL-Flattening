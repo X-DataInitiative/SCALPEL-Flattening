{
 "cells": [
  {
   "cell_type": "code",
   "execution_count": 1,
   "metadata": {},
   "outputs": [],
   "source": [
    "import json\n",
    "import re\n",
    "import pandas as pd\n",
    "import numpy as np\n",
    "import os"
   ]
  },
  {
   "cell_type": "markdown",
   "metadata": {},
   "source": [
    "The Flattening requires the schemas of the input csv tables to load the (typed) parquet tables. This script makes the conversion between tableschema and the Flattening input schemas. \n",
    "\n",
    "NB: The tableschema of the SNDS are collaboratively edited and can comport some errors. Nonetheless, we think that they are a good proxy of the real types of the data. They can be downloaded on the [HDH gitlab here](https://gitlab.com/healthdatahub/schema-snds/).\n",
    "\n",
    "The output of this script can then be copy-past to the corresponding product file in the [Schema folder of the flattening](https://github.com/X-DataInitiative/SCALPEL-Flattening/tree/develop/src/main/resources/schema) of your project."
   ]
  },
  {
   "cell_type": "code",
   "execution_count": 2,
   "metadata": {},
   "outputs": [
    {
     "name": "stdout",
     "output_type": "stream",
     "text": [
      "['DCIRS', 'PMSI', 'DAMIR', 'DCIR_DCIRS', 'DCIR', 'EGB', 'CARTOGRAPHIE_PATHOLOGIES', 'BENEFICIAIRE', 'Causes de décès']\n"
     ]
    }
   ],
   "source": [
    "# path to the table schema folder \n",
    "path2schema_snds = '/home/matthieu/Documents/santeFrance/projets/hub_santé/healthdatahub_gitlab/schema-snds/schemas/'\n",
    "print(os.listdir(path2schema_snds))"
   ]
  },
  {
   "cell_type": "code",
   "execution_count": 3,
   "metadata": {},
   "outputs": [
    {
     "data": {
      "text/plain": [
       "['T_MCOaa_nnMED.json',\n",
       " 'T_MCOaa_nnMEDATU.json',\n",
       " 'T_MCOaa_nnBPHN.json',\n",
       " 'T_MCOaa_nnORP.json']"
      ]
     },
     "execution_count": 3,
     "metadata": {},
     "output_type": "execute_result"
    }
   ],
   "source": [
    "#path2table_schema = path2schema_snds + 'data/tableschema/'\n",
    "#products_to_build = ['PMSI']\n",
    "product = \"PMSI/PMSI MCO/\"\n",
    "#product = products_to_build\n",
    "#tables = [os.listdir(path2table_schema + product) for p in product]\n",
    "tables = path2schema_snds + product\n",
    "os.listdir(tables)[:4]"
   ]
  },
  {
   "cell_type": "code",
   "execution_count": 4,
   "metadata": {},
   "outputs": [],
   "source": [
    "table = \"T_MCOaa_nnFCSTC.json\""
   ]
  },
  {
   "cell_type": "code",
   "execution_count": 5,
   "metadata": {},
   "outputs": [
    {
     "name": "stdout",
     "output_type": "stream",
     "text": [
      "T_MCOaa_nnFCSTC.json\n",
      "/home/matthieu/Documents/santeFrance/projets/hub_santé/healthdatahub_gitlab/schema-snds/schemas/PMSI/PMSI MCO/T_MCOaa_nnFCSTC.json\n"
     ]
    }
   ],
   "source": [
    "print(table)\n",
    "print(path2schema_snds + product + table )"
   ]
  },
  {
   "cell_type": "code",
   "execution_count": 6,
   "metadata": {},
   "outputs": [
    {
     "name": "stdout",
     "output_type": "stream",
     "text": [
      "There are 32 fields in the tableschema of MCO_FCSTC table\n"
     ]
    }
   ],
   "source": [
    "# change the table name to be consistent with the flattening syntax of tables (eg: MCO_FSTC)\n",
    "tab_name = table.split('/')[-1]\n",
    "tab_name = re.sub('AAAA', '', tab_name)\n",
    "tab_name = re.sub('__', '_', tab_name)\n",
    "tab_name = re.sub('aa_nn','_', tab_name)\n",
    "tab_name = re.sub('^T_', '', tab_name)\n",
    "tab_name = tab_name[:-5]\n",
    "# load the tableschema\n",
    "with open(path2schema_snds + product + '/' + table, 'r') as f:\n",
    "    tab_schem = json.load(f)\n",
    "print('There are {} fields in the tableschema of {} table'.format(len(tab_schem['fields']), tab_name))"
   ]
  },
  {
   "cell_type": "code",
   "execution_count": 7,
   "metadata": {},
   "outputs": [],
   "source": [
    "# defining target colnames for the flattening schema\n",
    "tab_flattening_schema = pd.DataFrame(columns = ['MEMNAME', 'NAME', 'FORMAT', 'FORMATL', 'FORMATD', 'DATATYPE'])"
   ]
  },
  {
   "cell_type": "markdown",
   "metadata": {},
   "source": [
    "#### Small transformations"
   ]
  },
  {
   "cell_type": "code",
   "execution_count": 8,
   "metadata": {},
   "outputs": [],
   "source": [
    "# mapping types\n",
    "datatype_dic = {\n",
    "    'string': 'String',\n",
    "    'number': 'Double',\n",
    "    'integer': 'Integer',\n",
    "    'boolean': 'Integer',\n",
    "    'datetime': 'Date',\n",
    "    'date': 'String',\n",
    "    'object': 'String'\n",
    "}\n",
    "\n",
    "# special field for dates    \n",
    "def create_format(datatype):\n",
    "    if datatype == 'Date':\n",
    "        return 'DATETIME'\n",
    "    elif datatype == 'String':\n",
    "        return '$'\n",
    "    else:\n",
    "        return np.nan\n",
    "\n",
    "# special field for double decimals (default to 2)\n",
    "def create_formatd(datatype):\n",
    "    if datatype == 'Double':\n",
    "        return 2\n",
    "    else:\n",
    "        return 0\n",
    "\n",
    "# default length of the variable to 20 if dates, else take the tableschema input\n",
    "def create_length(datatype, length):\n",
    "    if datatype == 'Date':\n",
    "        return 20\n",
    "    else:\n",
    "        if length is not None:\n",
    "            return length\n",
    "        else:\n",
    "            return 2"
   ]
  },
  {
   "cell_type": "code",
   "execution_count": 9,
   "metadata": {},
   "outputs": [],
   "source": [
    "# compute the transformations\n",
    "for i, var in enumerate(tab_schem['fields']):\n",
    "    datatype = datatype_dic[var['type']]\n",
    "    \n",
    "    dataformat = create_format(datatype)\n",
    "    formatl = create_length(datatype, var[\"length\"])\n",
    "    formatd = create_formatd(datatype)\n",
    "    \n",
    "    tab_flattening_schema.loc[i] = [tab_name, var['name'], dataformat, formatl, formatd, datatype]"
   ]
  },
  {
   "cell_type": "code",
   "execution_count": 10,
   "metadata": {},
   "outputs": [
    {
     "data": {
      "text/html": [
       "<div>\n",
       "<style scoped>\n",
       "    .dataframe tbody tr th:only-of-type {\n",
       "        vertical-align: middle;\n",
       "    }\n",
       "\n",
       "    .dataframe tbody tr th {\n",
       "        vertical-align: top;\n",
       "    }\n",
       "\n",
       "    .dataframe thead th {\n",
       "        text-align: right;\n",
       "    }\n",
       "</style>\n",
       "<table border=\"1\" class=\"dataframe\">\n",
       "  <thead>\n",
       "    <tr style=\"text-align: right;\">\n",
       "      <th></th>\n",
       "      <th>MEMNAME</th>\n",
       "      <th>NAME</th>\n",
       "      <th>FORMAT</th>\n",
       "      <th>FORMATL</th>\n",
       "      <th>FORMATD</th>\n",
       "      <th>DATATYPE</th>\n",
       "    </tr>\n",
       "  </thead>\n",
       "  <tbody>\n",
       "    <tr>\n",
       "      <th>0</th>\n",
       "      <td>MCO_FCSTC</td>\n",
       "      <td>ACT_COD</td>\n",
       "      <td>$</td>\n",
       "      <td>5</td>\n",
       "      <td>0</td>\n",
       "      <td>String</td>\n",
       "    </tr>\n",
       "    <tr>\n",
       "      <th>1</th>\n",
       "      <td>MCO_FCSTC</td>\n",
       "      <td>ACT_COE</td>\n",
       "      <td>NaN</td>\n",
       "      <td>6,2</td>\n",
       "      <td>2</td>\n",
       "      <td>Double</td>\n",
       "    </tr>\n",
       "    <tr>\n",
       "      <th>2</th>\n",
       "      <td>MCO_FCSTC</td>\n",
       "      <td>ACT_DNB</td>\n",
       "      <td>NaN</td>\n",
       "      <td>2</td>\n",
       "      <td>2</td>\n",
       "      <td>Double</td>\n",
       "    </tr>\n",
       "    <tr>\n",
       "      <th>3</th>\n",
       "      <td>MCO_FCSTC</td>\n",
       "      <td>ACT_NBR</td>\n",
       "      <td>NaN</td>\n",
       "      <td>3</td>\n",
       "      <td>2</td>\n",
       "      <td>Double</td>\n",
       "    </tr>\n",
       "    <tr>\n",
       "      <th>4</th>\n",
       "      <td>MCO_FCSTC</td>\n",
       "      <td>AMC_MNR</td>\n",
       "      <td>NaN</td>\n",
       "      <td>7,2</td>\n",
       "      <td>2</td>\n",
       "      <td>Double</td>\n",
       "    </tr>\n",
       "  </tbody>\n",
       "</table>\n",
       "</div>"
      ],
      "text/plain": [
       "     MEMNAME     NAME FORMAT FORMATL FORMATD DATATYPE\n",
       "0  MCO_FCSTC  ACT_COD      $       5       0   String\n",
       "1  MCO_FCSTC  ACT_COE    NaN     6,2       2   Double\n",
       "2  MCO_FCSTC  ACT_DNB    NaN       2       2   Double\n",
       "3  MCO_FCSTC  ACT_NBR    NaN       3       2   Double\n",
       "4  MCO_FCSTC  AMC_MNR    NaN     7,2       2   Double"
      ]
     },
     "execution_count": 10,
     "metadata": {},
     "output_type": "execute_result"
    }
   ],
   "source": [
    "tab_flattening_schema.head()"
   ]
  },
  {
   "cell_type": "code",
   "execution_count": 11,
   "metadata": {},
   "outputs": [],
   "source": [
    "# Write somewhere the schema \n",
    "# ****** TODO change to a path that works for you.********\n",
    "path2schema = '../../dreesUtils/flattening_schemas/{}.csv'.format(tab_name)\n",
    "\n",
    "tab_flattening_schema.sort_values(['MEMNAME', 'NAME'], inplace=True)\n",
    "tab_flattening_schema.to_csv(path2schema, sep=';', index=False, header=True, na_rep='')"
   ]
  },
  {
   "cell_type": "code",
   "execution_count": null,
   "metadata": {},
   "outputs": [],
   "source": []
  }
 ],
 "metadata": {
  "kernelspec": {
   "display_name": "Python 3",
   "language": "python",
   "name": "python3"
  },
  "language_info": {
   "codemirror_mode": {
    "name": "ipython",
    "version": 3
   },
   "file_extension": ".py",
   "mimetype": "text/x-python",
   "name": "python",
   "nbconvert_exporter": "python",
   "pygments_lexer": "ipython3",
   "version": "3.7.3"
  }
 },
 "nbformat": 4,
 "nbformat_minor": 4
}
