{
 "cells": [
  {
   "cell_type": "code",
   "execution_count": 1,
   "metadata": {},
   "outputs": [],
   "source": [
    "import pyspark.sql.functions as func\n",
    "from pyspark import SparkContext, SparkConf\n",
    "from pyspark.sql import SQLContext, DataFrame\n",
    "import pyarrow.parquet as pq\n",
    "import pandas as pd\n",
    "import os"
   ]
  },
  {
   "cell_type": "code",
   "execution_count": 2,
   "metadata": {},
   "outputs": [],
   "source": [
    "csv_path = '../src/test/resources/flattening/csv-table/PMSI'\n",
    "path_SSR_flat = '../src/test/resources/flattening/parquet-table/flat_table/SSR_Flat'\n",
    "parquet_path = \"../src/test/resources/flattening/parquet-table/single_table/\""
   ]
  },
  {
   "cell_type": "code",
   "execution_count": 3,
   "metadata": {},
   "outputs": [
    {
     "name": "stdout",
     "output_type": "stream",
     "text": [
      "['T_SSR19CCAM.csv', 'T_SSR19C.csv', 'T_SSR19B.csv', 'T_SSR19D.csv', 'T_SSR19CSARR.csv']\n"
     ]
    }
   ],
   "source": [
    "ssr_csv = [csv for csv in os.listdir(csv_path) if csv.startswith('T_SSR19')]\n",
    "print(ssr_csv)"
   ]
  },
  {
   "cell_type": "code",
   "execution_count": 4,
   "metadata": {},
   "outputs": [],
   "source": [
    "bases_SSR = {}\n",
    "\n",
    "for base in ssr_csv:\n",
    "    path = csv_path + '/' + base\n",
    "    temp_df = pd.read_csv(path, sep=';')\n",
    "    temp_name = base.split('.')[0]\n",
    "    temp_name = temp_name.replace('T_', '')\n",
    "    temp_name = temp_name.replace('19', '_')\n",
    "    bases_SSR[temp_name] = temp_df"
   ]
  },
  {
   "cell_type": "code",
   "execution_count": 5,
   "metadata": {},
   "outputs": [],
   "source": [
    "for name, base in bases_SSR.items():\n",
    "    os.mkdir(parquet_path + name)\n",
    "    os.mkdir(parquet_path + name + '/year=2019')\n",
    "    base.to_parquet(parquet_path + name + '/year=2019' + '/' + name + '.parquet', compression=None, index=False) "
   ]
  },
  {
   "cell_type": "code",
   "execution_count": 6,
   "metadata": {},
   "outputs": [
    {
     "data": {
      "text/plain": [
       "dict_keys(['SSR_CCAM', 'SSR_C', 'SSR_B', 'SSR_D', 'SSR_CSARR'])"
      ]
     },
     "execution_count": 6,
     "metadata": {},
     "output_type": "execute_result"
    }
   ],
   "source": [
    "bases_SSR.keys()"
   ]
  },
  {
   "cell_type": "code",
   "execution_count": 7,
   "metadata": {},
   "outputs": [
    {
     "name": "stdout",
     "output_type": "stream",
     "text": [
      "SSR_CCAM  :  (3, 12)   Index(['ETA_NUM', 'SSR_CCAM__RHA_VER', 'RHA_NUM', 'RHS_NUM',\n",
      "       'SSR_CCAM__CCAM_DEL_ENT_UM', 'SSR_CCAM__CCAM_ACT', 'SSR_CCAM__EXT_PMSI',\n",
      "       'SSR_CCAM__CCAM_PHA_ACT', 'SSR_CCAM__CCAM_COD_ACT',\n",
      "       'SSR_CCAM__CCAM_EXT_DOC', 'SSR_CCAM__CCAM_NBR_REA',\n",
      "       'SSR_CCAM__CCAM_VAL_DAT'],\n",
      "      dtype='object')\n",
      "SSR_C  :  (2, 14)   Index(['ETA_NUM', 'SSR_C__NIR_RET', 'SSR_C__NAI_RET', 'SSR_C__SEX_RET',\n",
      "       'SSR_C__SEJ_RET', 'SSR_C__DAT_RET', 'SSR_C__NUM_ENQ', 'RHA_NUM',\n",
      "       'SSR_C__ENT_DAT', 'SSR_C__SOR_DAT', 'SSR_C__EXE_SOI_DTD',\n",
      "       'SSR_C__EXE_SOI_DTF', 'SSR_C__MOI_LUN_1S', 'SSR_C__ANN_LUN_1S'],\n",
      "      dtype='object')\n",
      "SSR_B  :  (3, 54)   Index(['ETA_NUM', 'RHA_VER', 'GEN_VER', 'GRC_VER', 'GRC_GME', 'GRC_RET',\n",
      "       'GRC_TOP_ERR', 'GRG_VER', 'GRG_GME', 'GRG_RET', 'GRG_TOP_ERR',\n",
      "       'TYP_GEN_RHA', 'RHA_NUM', 'RHS_NUM', 'AGE_ANN', 'COD_SEX', 'BDI_COD',\n",
      "       'BDI_DEP', 'RHS_ANT_SEJ_ENT', 'MOI_ANN_SOR_SEJ', 'HOS_TYP_UM',\n",
      "       'AUT_TYP_UM', 'ETA_NUM_GEO', 'ENT_MOD', 'ENT_PRV', 'SOR_MOD', 'SOR_DES',\n",
      "       'DEB_SEM', 'DEB_FIN', 'SEJ_ANT', 'MOI_ANN', 'JP_HWE', 'JP_WE',\n",
      "       'ANC_CHI', 'FP_PEC', 'MOR_PRP', 'ETL_AFF', 'HAB_DEP', 'DPL_DEP',\n",
      "       'ALI_DEP', 'CON_DEP', 'CPT_DEP', 'REL_DEP', 'NBR_DGN', 'NBR_CSARR',\n",
      "       'NBR_CCAM', 'REHOS_PRJ_THP', 'GMT_NUM', 'EXB_TOP', 'EXB_NBJ', 'EXH_NBJ',\n",
      "       'LIT_DEDIE', 'SCORE_RR', 'TYP_US'],\n",
      "      dtype='object')\n",
      "SSR_D  :  (2, 5)   Index(['ETA_NUM', 'SSR_D__RHA_VER', 'RHA_NUM', 'RHS_NUM', 'SSR_D__DGN_COD'], dtype='object')\n",
      "SSR_CSARR  :  (3, 17)   Index(['ETA_NUM', 'SSR_CSARR__RHA_VER', 'RHA_NUM', 'RHS_NUM',\n",
      "       'SSR_CSARR__CSARR_COD', 'SSR_CSARR__APP_SUP', 'SSR_CSARR__MOD_LIEU',\n",
      "       'SSR_CSARR__MOD_PAT_1', 'SSR_CSARR__MOD_PAT_2', 'SSR_CSARR__TYP_INTERV',\n",
      "       'SSR_CSARR__CLAS_NBR_PAT_PS', 'SSR_CSARR__NBR_CSARR',\n",
      "       'SSR_CSARR__COMP_SEM', 'SSR_CSARR__ENT_DAT_DEL_UM',\n",
      "       'SSR_CSARR__NBR_PAT_INTERV', 'SSR_CSARR__NBR_INTERV',\n",
      "       'SSR_CSARR__EXT_DOC'],\n",
      "      dtype='object')\n"
     ]
    }
   ],
   "source": [
    "for base in bases_SSR:\n",
    "    if base != 'SSR_B':\n",
    "        new_cols = [base + '__'+ col if col not in ['ETA_NUM', 'RHA_NUM', 'RHS_NUM'] else col for\n",
    "                    col in bases_SSR[base].columns ]\n",
    "        bases_SSR[base].columns = new_cols\n",
    "    print(base,' : ',bases_SSR[base].shape, \" \", bases_SSR[base].columns)"
   ]
  },
  {
   "cell_type": "markdown",
   "metadata": {},
   "source": [
    "# Construction de la base applatie"
   ]
  },
  {
   "cell_type": "markdown",
   "metadata": {},
   "source": [
    "SSR_B / SSR_C"
   ]
  },
  {
   "cell_type": "code",
   "execution_count": 8,
   "metadata": {},
   "outputs": [
    {
     "name": "stdout",
     "output_type": "stream",
     "text": [
      "(3, 66)\n"
     ]
    }
   ],
   "source": [
    "table_centrale = pd.merge(bases_SSR['SSR_B'], bases_SSR['SSR_C'], on=['ETA_NUM', 'RHA_NUM'], how='left')\n",
    "print(table_centrale.shape)"
   ]
  },
  {
   "cell_type": "markdown",
   "metadata": {},
   "source": [
    "ajout de SSR_CCAM"
   ]
  },
  {
   "cell_type": "code",
   "execution_count": 9,
   "metadata": {},
   "outputs": [
    {
     "name": "stdout",
     "output_type": "stream",
     "text": [
      "(3, 75)\n"
     ]
    }
   ],
   "source": [
    "temp_SSR_CCAM = pd.merge(table_centrale, bases_SSR['SSR_CCAM'], on=['ETA_NUM', 'RHA_NUM', 'RHS_NUM'], how='left')\n",
    "print(temp_SSR_CCAM.shape)\n",
    "SSR_flat = temp_SSR_CCAM"
   ]
  },
  {
   "cell_type": "markdown",
   "metadata": {},
   "source": [
    "ajout de SSR_CSARR"
   ]
  },
  {
   "cell_type": "code",
   "execution_count": 10,
   "metadata": {},
   "outputs": [
    {
     "name": "stdout",
     "output_type": "stream",
     "text": [
      "(3, 80)\n",
      "(6, 89)\n"
     ]
    }
   ],
   "source": [
    "temp_SSR_CSARR = pd.merge(table_centrale, bases_SSR['SSR_CSARR'], on=['ETA_NUM', 'RHA_NUM', 'RHS_NUM'], how='left') \n",
    "print(temp_SSR_CSARR.shape)\n",
    "SSR_flat = pd.concat([SSR_flat, temp_SSR_CSARR], sort=True)\n",
    "print(SSR_flat.shape)"
   ]
  },
  {
   "cell_type": "markdown",
   "metadata": {},
   "source": [
    "ajout de SSR_D"
   ]
  },
  {
   "cell_type": "code",
   "execution_count": 11,
   "metadata": {},
   "outputs": [
    {
     "name": "stdout",
     "output_type": "stream",
     "text": [
      "(3, 68)\n",
      "(9, 92)\n"
     ]
    }
   ],
   "source": [
    "temp_SSR_D = pd.merge(table_centrale, bases_SSR['SSR_D'], on=['ETA_NUM', 'RHA_NUM', 'RHS_NUM'], how='left') \n",
    "print(temp_SSR_D.shape)\n",
    "SSR_flat = pd.concat([SSR_flat, temp_SSR_D], sort=True)\n",
    "SSR_flat['year'] = 2019\n",
    "print(SSR_flat.shape) \n",
    "SSR_flat.to_parquet(path_SSR_flat + '/SSR_flat.parquet', compression=None, index=False) "
   ]
  },
  {
   "cell_type": "code",
   "execution_count": 12,
   "metadata": {},
   "outputs": [
    {
     "data": {
      "text/plain": [
       "Index(['AGE_ANN', 'ALI_DEP', 'ANC_CHI', 'AUT_TYP_UM', 'BDI_COD', 'BDI_DEP',\n",
       "       'COD_SEX', 'CON_DEP', 'CPT_DEP', 'DEB_FIN', 'DEB_SEM', 'DPL_DEP',\n",
       "       'ENT_MOD', 'ENT_PRV', 'ETA_NUM', 'ETA_NUM_GEO', 'ETL_AFF', 'EXB_NBJ',\n",
       "       'EXB_TOP', 'EXH_NBJ', 'FP_PEC', 'GEN_VER', 'GMT_NUM', 'GRC_GME',\n",
       "       'GRC_RET', 'GRC_TOP_ERR', 'GRC_VER', 'GRG_GME', 'GRG_RET',\n",
       "       'GRG_TOP_ERR', 'GRG_VER', 'HAB_DEP', 'HOS_TYP_UM', 'JP_HWE', 'JP_WE',\n",
       "       'LIT_DEDIE', 'MOI_ANN', 'MOI_ANN_SOR_SEJ', 'MOR_PRP', 'NBR_CCAM',\n",
       "       'NBR_CSARR', 'NBR_DGN', 'REHOS_PRJ_THP', 'REL_DEP', 'RHA_NUM',\n",
       "       'RHA_VER', 'RHS_ANT_SEJ_ENT', 'RHS_NUM', 'SCORE_RR', 'SEJ_ANT',\n",
       "       'SOR_DES', 'SOR_MOD', 'SSR_CCAM__CCAM_ACT', 'SSR_CCAM__CCAM_COD_ACT',\n",
       "       'SSR_CCAM__CCAM_DEL_ENT_UM', 'SSR_CCAM__CCAM_EXT_DOC',\n",
       "       'SSR_CCAM__CCAM_NBR_REA', 'SSR_CCAM__CCAM_PHA_ACT',\n",
       "       'SSR_CCAM__CCAM_VAL_DAT', 'SSR_CCAM__EXT_PMSI', 'SSR_CCAM__RHA_VER',\n",
       "       'SSR_CSARR__APP_SUP', 'SSR_CSARR__CLAS_NBR_PAT_PS',\n",
       "       'SSR_CSARR__COMP_SEM', 'SSR_CSARR__CSARR_COD',\n",
       "       'SSR_CSARR__ENT_DAT_DEL_UM', 'SSR_CSARR__EXT_DOC',\n",
       "       'SSR_CSARR__MOD_LIEU', 'SSR_CSARR__MOD_PAT_1', 'SSR_CSARR__MOD_PAT_2',\n",
       "       'SSR_CSARR__NBR_CSARR', 'SSR_CSARR__NBR_INTERV',\n",
       "       'SSR_CSARR__NBR_PAT_INTERV', 'SSR_CSARR__RHA_VER',\n",
       "       'SSR_CSARR__TYP_INTERV', 'SSR_C__ANN_LUN_1S', 'SSR_C__DAT_RET',\n",
       "       'SSR_C__ENT_DAT', 'SSR_C__EXE_SOI_DTD', 'SSR_C__EXE_SOI_DTF',\n",
       "       'SSR_C__MOI_LUN_1S', 'SSR_C__NAI_RET', 'SSR_C__NIR_RET',\n",
       "       'SSR_C__NUM_ENQ', 'SSR_C__SEJ_RET', 'SSR_C__SEX_RET', 'SSR_C__SOR_DAT',\n",
       "       'SSR_D__DGN_COD', 'SSR_D__RHA_VER', 'TYP_GEN_RHA', 'TYP_US', 'year'],\n",
       "      dtype='object')"
      ]
     },
     "execution_count": 12,
     "metadata": {},
     "output_type": "execute_result"
    }
   ],
   "source": [
    "SSR_flat.columns"
   ]
  },
  {
   "cell_type": "code",
   "execution_count": null,
   "metadata": {},
   "outputs": [],
   "source": []
  }
 ],
 "metadata": {
  "kernelspec": {
   "display_name": "Python 3",
   "language": "python",
   "name": "python3"
  },
  "language_info": {
   "codemirror_mode": {
    "name": "ipython",
    "version": 3
   },
   "file_extension": ".py",
   "mimetype": "text/x-python",
   "name": "python",
   "nbconvert_exporter": "python",
   "pygments_lexer": "ipython3",
   "version": "3.7.5"
  }
 },
 "nbformat": 4,
 "nbformat_minor": 4
}
